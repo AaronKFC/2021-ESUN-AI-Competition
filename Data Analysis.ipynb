{
 "cells": [
  {
   "cell_type": "code",
   "execution_count": 1,
   "metadata": {},
   "outputs": [],
   "source": [
    "import os\n",
    "\n",
    "train_dir = './data/clean'  # Set the dataset directory\n",
    "\n",
    "words = []\n",
    "\n",
    "for root, dirs, files in os.walk(train_dir, topdown=True):\n",
    "    for name in files:\n",
    "        words.append(name.split('_')[-1].split('.')[0])"
   ]
  },
  {
   "cell_type": "code",
   "execution_count": 2,
   "metadata": {},
   "outputs": [
    {
     "data": {
      "text/plain": [
       "1099"
      ]
     },
     "execution_count": 2,
     "metadata": {},
     "output_type": "execute_result"
    }
   ],
   "source": [
    "words_set = set(words)\n",
    "num_unique_words = len(words_set)\n",
    "\n",
    "num_unique_words"
   ]
  },
  {
   "cell_type": "code",
   "execution_count": 3,
   "metadata": {
    "scrolled": true
   },
   "outputs": [],
   "source": [
    "word_dict = []\n",
    "for word in words_set:\n",
    "    word_dict.append([word, 0])\n",
    "word_dict = dict(word_dict)\n",
    "\n",
    "for word in words:\n",
    "    word_dict[word] += 1\n",
    "\n",
    "x = []\n",
    "for (key, value) in word_dict.items():\n",
    "    x.append(value)"
   ]
  },
  {
   "cell_type": "code",
   "execution_count": 4,
   "metadata": {},
   "outputs": [
    {
     "data": {
      "image/png": "[encoded data removed]",
      "text/plain": [
       "<Figure size 432x288 with 1 Axes>"
      ]
     },
     "metadata": {
      "needs_background": "light"
     },
     "output_type": "display_data"
    }
   ],
   "source": [
    "import matplotlib.pyplot as plt\n",
    "\n",
    "plt.hist(x, bins=50)\n",
    "plt.title('Numbers of words in different images')\n",
    "plt.xlabel('number of images')\n",
    "plt.ylabel('number of words')\n",
    "plt.show()"
   ]
  },
  {
   "cell_type": "code",
   "execution_count": 5,
   "metadata": {},
   "outputs": [],
   "source": [
    "with open('training data dic.txt') as f:\n",
    "    wordset = f.read().split('\\n')\n",
    "\n",
    "word_dict = []\n",
    "for word in wordset:\n",
    "    word_dict.append([word, 0])\n",
    "word_dict.append(['isnull', 0])\n",
    "word_dict = dict(word_dict)\n",
    "\n",
    "for word in words:\n",
    "    if word in wordset:\n",
    "        word_dict[word] += 1\n",
    "    else:\n",
    "        word_dict['isnull'] += 1\n",
    "\n",
    "y = []\n",
    "for (key, value) in word_dict.items():\n",
    "    y.append(value)"
   ]
  },
  {
   "cell_type": "code",
   "execution_count": 6,
   "metadata": {},
   "outputs": [
    {
     "data": {
      "image/png": "[encoded data removed]",
      "text/plain": [
       "<Figure size 432x288 with 1 Axes>"
      ]
     },
     "metadata": {
      "needs_background": "light"
     },
     "output_type": "display_data"
    }
   ],
   "source": [
    "import matplotlib.pyplot as plt\n",
    "\n",
    "plt.hist(y, bins=50)\n",
    "plt.title('Numbers of words in different images')\n",
    "plt.xlabel('number of images')\n",
    "plt.ylabel('number of words')\n",
    "plt.show()"
   ]
  },
  {
   "cell_type": "code",
   "execution_count": 7,
   "metadata": {},
   "outputs": [
    {
     "name": "stdout",
     "output_type": "stream",
     "text": [
      "Minimum: 17\n",
      "Maximum: 468\n",
      "Maximum except isnull: 200\n",
      "Average: 81.2059925093633\n",
      "Average except isnull: 80.80100125156446\n",
      "Standard: 26.22687462992639\n",
      "Standard except isnull: 22.297099582928094\n"
     ]
    }
   ],
   "source": [
    "import numpy as np\n",
    "\n",
    "print(f'Minimum: {np.min(y)}')\n",
    "print(f'Maximum: {np.max(y)}')\n",
    "print(f'Maximum except isnull: {np.max(y[:-2])}')\n",
    "print(f'Average: {np.average(y)}')\n",
    "print(f'Average except isnull: {np.average(y[:-2])}')\n",
    "print(f'Standard: {np.std(y)}')\n",
    "print(f'Standard except isnull: {np.std(y[:-2])}')"
   ]
  },
  {
   "cell_type": "code",
   "execution_count": null,
   "metadata": {},
   "outputs": [],
   "source": []
  }
 ],
 "metadata": {
  "kernelspec": {
   "display_name": "Python 3",
   "language": "python",
   "name": "python3"
  },
  "language_info": {
   "codemirror_mode": {
    "name": "ipython",
    "version": 3
   },
   "file_extension": ".py",
   "mimetype": "text/x-python",
   "name": "python",
   "nbconvert_exporter": "python",
   "pygments_lexer": "ipython3",
   "version": "3.6.9"
  }
 },
 "nbformat": 4,
 "nbformat_minor": 2
}
