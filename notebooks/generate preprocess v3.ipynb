{
 "cells": [
  {
   "cell_type": "code",
   "execution_count": 1,
   "id": "6fbebd70",
   "metadata": {},
   "outputs": [],
   "source": [
    "import os\n",
    "import shutil\n",
    "import re\n",
    "import random\n",
    "\n",
    "src_dirs = ['../data/preprocessed', '../data/test_0615', './data/test_0616']\n",
    "dest_dir = '../data/preprocess v3'\n",
    "\n",
    "class_dict_path = '../data/training data dic.txt'\n",
    "\n",
    "with open(class_dict_path, encoding='utf-8') as f:\n",
    "    wordset = f.read().split('\\n')\n",
    "\n",
    "if os.path.isdir(dest_dir):\n",
    "    shutil.rmtree(dest_dir)\n",
    "\n",
    "os.mkdir(dest_dir)\n",
    "os.mkdir(os.path.join(dest_dir, 'train'))\n",
    "os.mkdir(os.path.join(dest_dir, 'val'))\n",
    "os.mkdir(os.path.join(dest_dir, 'train', 'isnull'))\n",
    "os.mkdir(os.path.join(dest_dir, 'val', 'isnull'))\n",
    "\n",
    "for word in wordset:\n",
    "    os.mkdir(os.path.join(dest_dir, 'train', word))\n",
    "    os.mkdir(os.path.join(dest_dir, 'val', word))"
   ]
  },
  {
   "cell_type": "code",
   "execution_count": 2,
   "id": "96fbd4d0",
   "metadata": {},
   "outputs": [],
   "source": [
    "from sklearn.model_selection import train_test_split\n",
    "\n",
    "img_path = []\n",
    "\n",
    "for src in src_dirs:\n",
    "    for root, dirs, files in os.walk(src):\n",
    "        for file in files:\n",
    "            img_path.append(os.path.join(root, file))\n",
    "            \n",
    "train_path, val_path = train_test_split(img_path, test_size=0.1)"
   ]
  },
  {
   "cell_type": "code",
   "execution_count": 3,
   "id": "6e81931c",
   "metadata": {},
   "outputs": [],
   "source": [
    "for path in train_path:\n",
    "    label = re.split('[_.]', path)[-2]\n",
    "    if label not in wordset:\n",
    "        label = 'isnull'\n",
    "    shutil.copy2(path, os.path.join(dest_dir, 'train', label, re.split('/', path)[-1]))"
   ]
  },
  {
   "cell_type": "code",
   "execution_count": 4,
   "id": "4f6d4b5d",
   "metadata": {},
   "outputs": [],
   "source": [
    "for path in val_path:\n",
    "    label = re.split('[_.]', path)[-2]\n",
    "    if label not in wordset:\n",
    "        label = 'isnull'\n",
    "    shutil.copy2(path, os.path.join(dest_dir, 'val', label, re.split('/', path)[-1]))"
   ]
  }
 ],
 "metadata": {
  "kernelspec": {
   "display_name": "Python 3",
   "language": "python",
   "name": "python3"
  },
  "language_info": {
   "codemirror_mode": {
    "name": "ipython",
    "version": 3
   },
   "file_extension": ".py",
   "mimetype": "text/x-python",
   "name": "python",
   "nbconvert_exporter": "python",
   "pygments_lexer": "ipython3",
   "version": "3.6.9"
  }
 },
 "nbformat": 4,
 "nbformat_minor": 5
}
