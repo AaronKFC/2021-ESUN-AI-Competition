{
 "cells": [
  {
   "cell_type": "code",
   "execution_count": 2,
   "id": "96fbd4d0",
   "metadata": {},
   "outputs": [],
   "source": [
    "import os\n",
    "import shutil\n",
    "import re\n",
    "\n",
    "test_dir = '../data/test_0616'\n",
    "new_test_dir = '../data/preprocessed_test_0616'\n",
    "class_dict_path = '../data/training data dic.txt'\n",
    "\n",
    "with open(class_dict_path, encoding='utf-8') as f:\n",
    "    wordset = f.read().split('\\n')\n",
    "\n",
    "if os.path.isdir(new_test_dir):\n",
    "    shutil.rmtree(new_test_dir)\n",
    "\n",
    "os.mkdir(new_test_dir)\n",
    "os.mkdir(os.path.join(new_test_dir, 'isnull'))\n",
    "for word in wordset:\n",
    "    os.mkdir(os.path.join(new_test_dir, word))\n",
    "\n",
    "for root, dirs, files in os.walk(test_dir):\n",
    "    for file in files:\n",
    "        label = re.split('[_.]', file)[-2]\n",
    "        if label in wordset:\n",
    "            shutil.copy2(os.path.join(root, file), os.path.join(new_test_dir, label, file))\n",
    "        else:\n",
    "            shutil.copy2(os.path.join(root, file), os.path.join(new_test_dir, 'isnull', file))"
   ]
  },
  {
   "cell_type": "code",
   "execution_count": null,
   "id": "4f6d4b5d",
   "metadata": {},
   "outputs": [],
   "source": []
  }
 ],
 "metadata": {
  "kernelspec": {
   "display_name": "Python 3",
   "language": "python",
   "name": "python3"
  },
  "language_info": {
   "codemirror_mode": {
    "name": "ipython",
    "version": 3
   },
   "file_extension": ".py",
   "mimetype": "text/x-python",
   "name": "python",
   "nbconvert_exporter": "python",
   "pygments_lexer": "ipython3",
   "version": "3.6.9"
  }
 },
 "nbformat": 4,
 "nbformat_minor": 5
}
