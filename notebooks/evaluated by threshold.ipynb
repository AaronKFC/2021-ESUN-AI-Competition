{
 "cells": [
  {
   "cell_type": "code",
   "execution_count": 1,
   "metadata": {},
   "outputs": [],
   "source": [
    "import os\n",
    "import time\n",
    "\n",
    "import numpy as np\n",
    "from efficientnet_pytorch import EfficientNet\n",
    "import matplotlib.image as mpimg\n",
    "import matplotlib.pyplot as plt\n",
    "from PIL import Image\n",
    "import torch\n",
    "import torch.nn as nn\n",
    "from torchvision import datasets, transforms\n",
    "from sklearn.metrics import accuracy_score, f1_score, precision_score, recall_score, classification_report"
   ]
  },
  {
   "cell_type": "code",
   "execution_count": 2,
   "metadata": {},
   "outputs": [],
   "source": [
    "batch_size = 32\n",
    "device = torch.device(\"cuda:0\" if torch.cuda.is_available() else \"cpu\")\n",
    "input_size = 224\n",
    "model_path = '../models/efficientnet-b3.pth'\n",
    "test_dir = '../data/test v2'\n",
    "class_dict_path = '../data/training data dic.txt'"
   ]
  },
  {
   "cell_type": "code",
   "execution_count": 3,
   "metadata": {},
   "outputs": [],
   "source": [
    "with open(class_dict_path, encoding='utf-8') as f:\n",
    "    wordset = f.read().split('\\n')"
   ]
  },
  {
   "cell_type": "code",
   "execution_count": 4,
   "metadata": {},
   "outputs": [],
   "source": [
    "data_transform = transforms.Compose([\n",
    "    transforms.Resize((input_size, input_size)),\n",
    "    transforms.ToTensor(),\n",
    "    transforms.Normalize([0.726, 0.686, 0.695], [0.205, 0.210, 0.183])\n",
    "])\n",
    "\n",
    "image_dataset = datasets.ImageFolder(test_dir, data_transform)\n",
    "dataloader = torch.utils.data.DataLoader(image_dataset,\n",
    "                                         batch_size=batch_size,\n",
    "                                         shuffle=True,\n",
    "                                         num_workers=6) \n",
    "\n",
    "dataset_sizes = len(image_dataset)\n",
    "\n",
    "class_names = image_dataset.classes"
   ]
  },
  {
   "cell_type": "code",
   "execution_count": 5,
   "metadata": {},
   "outputs": [
    {
     "name": "stdout",
     "output_type": "stream",
     "text": [
      "Loaded pretrained weights for efficientnet-b3\n",
      "\n"
     ]
    }
   ],
   "source": [
    "model_test = EfficientNet.from_pretrained('efficientnet-b3', num_classes=len(class_names))\n",
    "\n",
    "model_test.to(device)\n",
    "\n",
    "model_test.load_state_dict(torch.load(model_path))\n",
    "\n",
    "model_test.eval()\n",
    "print()"
   ]
  },
  {
   "cell_type": "code",
   "execution_count": 6,
   "metadata": {
    "scrolled": true
   },
   "outputs": [],
   "source": [
    "max_probs_list = []\n",
    "preds_list = []\n",
    "labels_list = []\n",
    "\n",
    "with torch.no_grad():\n",
    "    for inputs, labels in dataloader:\n",
    "        inputs = inputs.to(device)\n",
    "        labels = labels.to(device)\n",
    "\n",
    "        outputs = model_test(inputs)\n",
    "        softmax = nn.Softmax(dim=1)\n",
    "        max_prods, preds = torch.max(softmax(outputs), 1)\n",
    "        max_probs_list += max_prods.cpu().tolist()\n",
    "        preds_list += preds.cpu().tolist()\n",
    "        labels_list += labels.cpu().tolist()"
   ]
  },
  {
   "cell_type": "code",
   "execution_count": 7,
   "metadata": {
    "scrolled": true
   },
   "outputs": [
    {
     "name": "stdout",
     "output_type": "stream",
     "text": [
      "Threshold = 0\n",
      "isnull f1 score: 0.45161290322580644\n",
      "Macro f1 score: 0.8514539504441327\n",
      "Weighted f1 score: 0.8693028824432998\n",
      "Accuracy: 0.8529411764705882\n",
      "\n",
      "Threshold = 0.3\n",
      "isnull f1 score: 0.464\n",
      "Macro f1 score: 0.8539651162790698\n",
      "Weighted f1 score: 0.8718011204481794\n",
      "Accuracy: 0.8550420168067226\n",
      "\n",
      "Threshold = 0.5\n",
      "isnull f1 score: 0.5230769230769231\n",
      "Macro f1 score: 0.8651659125188537\n",
      "Weighted f1 score: 0.8844160741219566\n",
      "Accuracy: 0.865546218487395\n",
      "\n",
      "Threshold = 0.7\n",
      "isnull f1 score: 0.6433566433566433\n",
      "Macro f1 score: 0.8835125073931044\n",
      "Weighted f1 score: 0.912665765606942\n",
      "Accuracy: 0.8907563025210085\n",
      "\n"
     ]
    }
   ],
   "source": [
    "threshold = [0, 0.3, 0.5, 0.7]\n",
    "\n",
    "isnull_f1 = []\n",
    "macro_f1 = []\n",
    "weighted_f1 = []\n",
    "accuracy = []\n",
    "\n",
    "for i, t in enumerate(threshold):\n",
    "    preds = np.copy(preds_list)\n",
    "    labels = np.copy(labels_list)\n",
    "    max_probs = np.copy(max_probs_list)\n",
    "    preds[max_probs < t] = 0\n",
    "    isnull_f1.append(f1_score(labels, preds, labels=[0], average=\"macro\"))\n",
    "    macro_f1.append(f1_score(labels, preds, average=\"macro\"))\n",
    "    weighted_f1.append(f1_score(labels, preds, average=\"weighted\"))\n",
    "    accuracy.append(accuracy_score(labels, preds))\n",
    "    print(f'Threshold = {t}')\n",
    "    print(f'isnull f1 score: {isnull_f1[i]}')\n",
    "    print(f'Macro f1 score: {macro_f1[i]}')\n",
    "    print(f'Weighted f1 score: {weighted_f1[i]}')\n",
    "    print(f'Accuracy: {accuracy[i]}')\n",
    "    print()"
   ]
  },
  {
   "cell_type": "code",
   "execution_count": 8,
   "metadata": {},
   "outputs": [
    {
     "name": "stdout",
     "output_type": "stream",
     "text": [
      "[0.45161290322580644, 0.464, 0.5230769230769231, 0.6433566433566433, 0.8514539504441327, 0.8539651162790698, 0.8651659125188537, 0.8835125073931044, 0.8693028824432998, 0.8718011204481794, 0.8844160741219566, 0.912665765606942, 0.8529411764705882, 0.8550420168067226, 0.865546218487395, 0.8907563025210085]\n"
     ]
    }
   ],
   "source": [
    "print(isnull_f1 + macro_f1 + weighted_f1 + accuracy)"
   ]
  },
  {
   "cell_type": "code",
   "execution_count": null,
   "metadata": {},
   "outputs": [],
   "source": []
  }
 ],
 "metadata": {
  "kernelspec": {
   "display_name": "Python 3",
   "language": "python",
   "name": "python3"
  },
  "language_info": {
   "codemirror_mode": {
    "name": "ipython",
    "version": 3
   },
   "file_extension": ".py",
   "mimetype": "text/x-python",
   "name": "python",
   "nbconvert_exporter": "python",
   "pygments_lexer": "ipython3",
   "version": "3.6.13"
  }
 },
 "nbformat": 4,
 "nbformat_minor": 2
}
