{
 "cells": [
  {
   "cell_type": "code",
   "execution_count": 1,
   "metadata": {},
   "outputs": [],
   "source": [
    "import os\n",
    "import time\n",
    "\n",
    "import numpy as np\n",
    "from efficientnet_pytorch import EfficientNet\n",
    "import matplotlib.image as mpimg\n",
    "import matplotlib.pyplot as plt\n",
    "from PIL import Image\n",
    "import torch\n",
    "import torch.nn as nn\n",
    "from torchvision import datasets, transforms\n",
    "from sklearn.metrics import accuracy_score, f1_score, precision_score, recall_score, classification_report"
   ]
  },
  {
   "cell_type": "code",
   "execution_count": 2,
   "metadata": {},
   "outputs": [],
   "source": [
    "# Setting\n",
    "batch_size = 16\n",
    "device = torch.device(\"cuda:0\" if torch.cuda.is_available() else \"cpu\")\n",
    "\n",
    "models_dir = '../models'\n",
    "\n",
    "input_sizes = [67, ]\n",
    "load_model_paths = ['Preprocessed v1 EfficientNet-B3 v1.pth', ]\n",
    "\n",
    "model_name = 'efficientnet-b3'  # Backbone model\n",
    "test_dir = '../data/preprocessed_test_0615'  # path to test\n",
    "class_dict_path = '../data/training data dic.txt'  # path to 玉山給的 training data dict.txt"
   ]
  },
  {
   "cell_type": "code",
   "execution_count": 3,
   "metadata": {},
   "outputs": [],
   "source": [
    "# opt = Options().parse()"
   ]
  },
  {
   "cell_type": "code",
   "execution_count": 4,
   "metadata": {},
   "outputs": [],
   "source": [
    "with open(class_dict_path, encoding='utf-8') as f:\n",
    "    wordset = f.read().split('\\n')"
   ]
  },
  {
   "cell_type": "code",
   "execution_count": 5,
   "metadata": {},
   "outputs": [],
   "source": [
    "dataloaders = []\n",
    "\n",
    "for size in input_sizes:\n",
    "    data_transform = transforms.Compose([\n",
    "        transforms.Resize((size, size)),\n",
    "        transforms.ToTensor(),\n",
    "        transforms.Normalize([0.726, 0.686, 0.695], [0.205, 0.210, 0.183])\n",
    "    ])\n",
    "\n",
    "    image_dataset = datasets.ImageFolder(test_dir, data_transform)\n",
    "    \n",
    "    dataloaders.append(torch.utils.data.DataLoader(image_dataset,\n",
    "                                                   batch_size=batch_size,\n",
    "                                                   shuffle=False,\n",
    "                                                   num_workers=6))\n",
    "\n",
    "dataset_sizes = len(dataloaders[0].dataset)\n",
    "\n",
    "class_names = dataloaders[0].dataset.classes"
   ]
  },
  {
   "cell_type": "code",
   "execution_count": 6,
   "metadata": {},
   "outputs": [
    {
     "name": "stdout",
     "output_type": "stream",
     "text": [
      "Loaded pretrained weights for efficientnet-b3\n"
     ]
    }
   ],
   "source": [
    "models = []\n",
    "\n",
    "for path in load_model_paths:\n",
    "    model = EfficientNet.from_pretrained(model_name, num_classes=len(class_names))\n",
    "    model.to(device)\n",
    "    model.load_state_dict(torch.load(os.path.join(models_dir, path)))\n",
    "    model.eval()\n",
    "    models.append(model)"
   ]
  },
  {
   "cell_type": "code",
   "execution_count": 7,
   "metadata": {},
   "outputs": [],
   "source": [
    "# model_test = EfficientNet.from_pretrained(model_name, num_classes=len(class_names))\n",
    "\n",
    "# model_test.to(device)\n",
    "\n",
    "# model_test.load_state_dict(torch.load(model_path))\n",
    "\n",
    "# model_test.eval()\n",
    "# print()"
   ]
  },
  {
   "cell_type": "code",
   "execution_count": 8,
   "metadata": {
    "scrolled": true
   },
   "outputs": [],
   "source": [
    "with torch.no_grad():\n",
    "    model_max_probs = []\n",
    "    model_preds = []\n",
    "    model_labels = []\n",
    "    for dataloader, model in zip(dataloaders, models):\n",
    "        max_probs = []\n",
    "        preds = []\n",
    "        labels = []\n",
    "        for batch_inputs, batch_labels in dataloader:\n",
    "            batch_inputs = batch_inputs.to(device)\n",
    "            batch_labels = batch_labels.to(device)\n",
    "\n",
    "            batch_outputs = model(batch_inputs)\n",
    "            softmax = nn.Softmax(dim=1)\n",
    "            batch_max_prods, batch_preds = torch.max(softmax(batch_outputs), 1)\n",
    "            max_probs += batch_max_prods.cpu().tolist()\n",
    "            preds += batch_preds.cpu().tolist()\n",
    "            labels += batch_labels.cpu().tolist()\n",
    "        model_max_probs.append(max_probs)\n",
    "        model_preds.append(preds)\n",
    "        model_labels.append(labels)\n",
    "\n",
    "model_max_probs = np.array(model_max_probs)\n",
    "model_preds = np.array(model_preds)\n",
    "model_labels = np.array(model_labels)"
   ]
  },
  {
   "cell_type": "code",
   "execution_count": 9,
   "metadata": {
    "scrolled": true
   },
   "outputs": [],
   "source": [
    "threshold = [0, 0.3, 0.5, 0.7]\n",
    "model_scores = []\n",
    "\n",
    "for max_probs, preds, labels in zip(model_max_probs, model_preds, model_labels):\n",
    "    scores = {t: {'isnull_f1': 0, 'macro_f1': 0, 'weighted_f1': 0, 'accuracy': 0} for t in threshold}\n",
    "    for t in threshold:\n",
    "        preds[max_probs < t] = 0\n",
    "        scores[t]['isnull_f1'] = f1_score(labels, preds, labels=[0], average=\"macro\")\n",
    "        scores[t]['macro_f1'] = f1_score(labels, preds, average=\"macro\")\n",
    "        scores[t]['weighted_f1'] = f1_score(labels, preds, average=\"weighted\")\n",
    "        scores[t]['accuracy'] = accuracy_score(labels, preds)\n",
    "    model_scores.append(scores)"
   ]
  },
  {
   "cell_type": "code",
   "execution_count": 10,
   "metadata": {},
   "outputs": [],
   "source": [
    "rows = []\n",
    "\n",
    "for path, scores in zip(load_model_paths, model_scores):\n",
    "    row = []\n",
    "    for metric in ['isnull_f1', 'macro_f1', 'weighted_f1', 'accuracy']:\n",
    "        for t in threshold:\n",
    "            row.append(scores[t][metric])\n",
    "    rows.append(row)"
   ]
  },
  {
   "cell_type": "code",
   "execution_count": 11,
   "metadata": {},
   "outputs": [],
   "source": [
    "import pandas as pd \n",
    "\n",
    "df = pd.DataFrame(rows)\n",
    "df.to_csv('../output/evaluation.csv', encoding='utf-8')"
   ]
  },
  {
   "cell_type": "code",
   "execution_count": null,
   "metadata": {},
   "outputs": [],
   "source": []
  }
 ],
 "metadata": {
  "kernelspec": {
   "display_name": "Python 3",
   "language": "python",
   "name": "python3"
  },
  "language_info": {
   "codemirror_mode": {
    "name": "ipython",
    "version": 3
   },
   "file_extension": ".py",
   "mimetype": "text/x-python",
   "name": "python",
   "nbconvert_exporter": "python",
   "pygments_lexer": "ipython3",
   "version": "3.6.9"
  }
 },
 "nbformat": 4,
 "nbformat_minor": 2
}
