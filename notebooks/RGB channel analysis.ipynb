{
 "cells": [
  {
   "cell_type": "code",
   "execution_count": 1,
   "metadata": {},
   "outputs": [],
   "source": [
    "import os\n",
    "\n",
    "import matplotlib.pyplot as plt\n",
    "import numpy as np\n",
    "from PIL import Image"
   ]
  },
  {
   "cell_type": "code",
   "execution_count": 2,
   "metadata": {},
   "outputs": [],
   "source": [
    "%matplotlib inline\n",
    "data_dirs = ['./data/clean',\n",
    "             #'./data/additional'\n",
    "            ]\n",
    "\n",
    "means = []\n",
    "stds = []\n",
    "\n",
    "for data_dir in data_dirs:\n",
    "    for root, dirs, files in os.walk(data_dir):\n",
    "        for filename in files:\n",
    "            img = Image.open(os.path.join(root, filename))\n",
    "            means.append(np.array(img).mean(axis=(0, 1)))\n",
    "            stds.append(np.array(img).std(axis=(0, 1)))"
   ]
  },
  {
   "cell_type": "code",
   "execution_count": 3,
   "metadata": {},
   "outputs": [],
   "source": [
    "means = np.array(means)\n",
    "stds = np.array(stds)"
   ]
  },
  {
   "cell_type": "code",
   "execution_count": 4,
   "metadata": {},
   "outputs": [
    {
     "name": "stdout",
     "output_type": "stream",
     "text": [
      "mean red: 0.7263784242071287\n",
      "mean green: 0.6869879489510391\n",
      "mean blue: 0.695910858736805\n",
      "std red: 0.20533155470764095\n",
      "std green: 0.21022213290257305\n",
      "std blue: 0.18293468571392466\n"
     ]
    }
   ],
   "source": [
    "print(f'mean red: {np.mean(means[:, 0]) / 255.}')\n",
    "print(f'mean green: {np.mean(means[:, 1]) / 255.}')\n",
    "print(f'mean blue: {np.mean(means[:, 2]) / 255.}')\n",
    "print(f'std red: {np.mean(stds[:, 0]) / 255.}')\n",
    "print(f'std green: {np.mean(stds[:, 1]) / 255.}')\n",
    "print(f'std blue: {np.mean(stds[:, 2]) / 255.}')"
   ]
  },
  {
   "cell_type": "code",
   "execution_count": null,
   "metadata": {},
   "outputs": [],
   "source": []
  }
 ],
 "metadata": {
  "kernelspec": {
   "display_name": "Python 3",
   "language": "python",
   "name": "python3"
  },
  "language_info": {
   "codemirror_mode": {
    "name": "ipython",
    "version": 3
   },
   "file_extension": ".py",
   "mimetype": "text/x-python",
   "name": "python",
   "nbconvert_exporter": "python",
   "pygments_lexer": "ipython3",
   "version": "3.6.9"
  }
 },
 "nbformat": 4,
 "nbformat_minor": 2
}
