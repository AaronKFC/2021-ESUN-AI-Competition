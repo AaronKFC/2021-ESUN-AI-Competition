{
 "cells": [
  {
   "cell_type": "code",
   "execution_count": null,
   "metadata": {},
   "outputs": [],
   "source": [
    "from collections import Counter\n",
    "import os\n",
    "import random\n",
    "import re\n",
    "import shutil\n",
    "\n",
    "from PIL import Image\n",
    "\n",
    "\n",
    "dataset_dir = './data/clean'  # Set the dataset directory\n",
    "train_dir = './data/train'\n",
    "val_dir = './data/val'\n",
    "\n",
    "words = []\n",
    "words_path = []\n",
    "\n",
    "for root, dirs, files in os.walk(dataset_dir, topdown=True):\n",
    "    for name in files:\n",
    "        words.append(re.split(r'_|\\.', name)[1])\n",
    "        words_path.append(os.path.join(root, name))"
   ]
  },
  {
   "cell_type": "code",
   "execution_count": null,
   "metadata": {},
   "outputs": [],
   "source": [
    "if os.path.isdir(train_dir):\n",
    "    shutil.rmtree(train_dir)\n",
    "os.mkdir(train_dir)\n",
    "    \n",
    "if os.path.isdir(val_dir):\n",
    "    shutil.rmtree(val_dir)\n",
    "os.mkdir(val_dir)\n",
    "    \n",
    "os.mkdir(os.path.join(train_dir, 'isnull'))\n",
    "os.mkdir(os.path.join(val_dir, 'isnull'))\n",
    "    \n",
    "with open('./data/training data dic.txt') as f:\n",
    "    wordset = f.read().split('\\n')\n",
    "\n",
    "for word in wordset:\n",
    "    os.mkdir(os.path.join(train_dir, word))\n",
    "    os.mkdir(os.path.join(val_dir, word))"
   ]
  },
  {
   "cell_type": "code",
   "execution_count": null,
   "metadata": {},
   "outputs": [],
   "source": [
    "words_counter = [['isnull', 0]]\n",
    "\n",
    "for (key, count) in Counter(words).items():\n",
    "    if key in wordset:\n",
    "        words_counter.append([key, count])\n",
    "    else:\n",
    "        words_counter[0][1] += count\n",
    "\n",
    "words_counter = dict(words_counter)"
   ]
  },
  {
   "cell_type": "code",
   "execution_count": null,
   "metadata": {},
   "outputs": [],
   "source": [
    "random.shuffle(words_path)\n",
    "\n",
    "pass_words = []\n",
    "\n",
    "for i, path in enumerate(words_path):\n",
    "    img = Image.open(path)\n",
    "    current_word = re.split('_|\\.', path)[-2]\n",
    "    if not current_word in wordset:\n",
    "        current_word = 'isnull'\n",
    "    if Counter(pass_words)[current_word] < 0.8 * words_counter[current_word]:\n",
    "        img.save(os.path.join(train_dir, current_word, path.split('/')[-1]))\n",
    "    else:\n",
    "        img.save(os.path.join(val_dir, current_word, path.split('/')[-1]))\n",
    "    pass_words.append(current_word)"
   ]
  },
  {
   "cell_type": "code",
   "execution_count": null,
   "metadata": {},
   "outputs": [],
   "source": []
  }
 ],
 "metadata": {
  "kernelspec": {
   "display_name": "Python 3",
   "language": "python",
   "name": "python3"
  },
  "language_info": {
   "codemirror_mode": {
    "name": "ipython",
    "version": 3
   },
   "file_extension": ".py",
   "mimetype": "text/x-python",
   "name": "python",
   "nbconvert_exporter": "python",
   "pygments_lexer": "ipython3",
   "version": "3.6.9"
  }
 },
 "nbformat": 4,
 "nbformat_minor": 2
}
