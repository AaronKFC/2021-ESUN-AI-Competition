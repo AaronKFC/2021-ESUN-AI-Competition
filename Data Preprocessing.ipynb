{
 "cells": [
  {
   "cell_type": "code",
   "execution_count": 1,
   "metadata": {},
   "outputs": [],
   "source": [
    "import os\n",
    "\n",
    "dataset_dir = './data/clean'  # Set the dataset directory\n",
    "train_dir = './data/train'\n",
    "val_dir = './data/val'\n",
    "\n",
    "words_path = []\n",
    "\n",
    "for root, dirs, files in os.walk(dataset_dir, topdown=True):\n",
    "    for name in files:\n",
    "        words_path.append(os.path.join(root, name))"
   ]
  },
  {
   "cell_type": "code",
   "execution_count": 2,
   "metadata": {},
   "outputs": [],
   "source": [
    "import shutil\n",
    "\n",
    "if os.path.isdir(train_dir):\n",
    "    shutil.rmtree(train_dir)\n",
    "os.mkdir(train_dir)\n",
    "    \n",
    "if os.path.isdir(val_dir):\n",
    "    shutil.rmtree(val_dir)\n",
    "os.mkdir(val_dir)\n",
    "    \n",
    "os.mkdir(os.path.join(train_dir, 'isnull'))\n",
    "os.mkdir(os.path.join(val_dir, 'isnull'))\n",
    "    \n",
    "with open('./data/training data dic.txt') as f:\n",
    "    wordset = f.read().split('\\n')\n",
    "\n",
    "for word in wordset:\n",
    "    os.mkdir(os.path.join(train_dir, word))\n",
    "    os.mkdir(os.path.join(val_dir, word))"
   ]
  },
  {
   "cell_type": "code",
   "execution_count": 3,
   "metadata": {},
   "outputs": [],
   "source": [
    "import random\n",
    "\n",
    "from PIL import Image\n",
    "\n",
    "random.shuffle(words_path)\n",
    "\n",
    "for i in range(len(words_path)):\n",
    "    img = Image.open(words_path[i])\n",
    "    if i < len(words_path) * 0.8:\n",
    "        if words_path[i].split('_')[-1].split('.')[0] in wordset:\n",
    "            img.save(os.path.join(train_dir, words_path[i].split('_')[-1].split('.')[0], words_path[i].split('/')[-1]))\n",
    "        else:\n",
    "            img.save(os.path.join(train_dir, 'isnull', words_path[i].split('/')[-1]))\n",
    "    else:\n",
    "        if words_path[i].split('_')[-1].split('.')[0] in wordset:\n",
    "            img.save(os.path.join(val_dir, words_path[i].split('_')[-1].split('.')[0], words_path[i].split('/')[-1]))\n",
    "        else:\n",
    "            img.save(os.path.join(val_dir, 'isnull', words_path[i].split('/')[-1]))"
   ]
  },
  {
   "cell_type": "code",
   "execution_count": null,
   "metadata": {},
   "outputs": [],
   "source": []
  }
 ],
 "metadata": {
  "kernelspec": {
   "display_name": "Python 3",
   "language": "python",
   "name": "python3"
  },
  "language_info": {
   "codemirror_mode": {
    "name": "ipython",
    "version": 3
   },
   "file_extension": ".py",
   "mimetype": "text/x-python",
   "name": "python",
   "nbconvert_exporter": "python",
   "pygments_lexer": "ipython3",
   "version": "3.6.9"
  }
 },
 "nbformat": 4,
 "nbformat_minor": 2
}
